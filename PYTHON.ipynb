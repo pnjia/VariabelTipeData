{
 "cells": [
  {
   "cell_type": "markdown",
   "id": "9a752041",
   "metadata": {},
   "source": [
    "<h1>Variabel dan Tipe data python</h1><hr>\n",
    "<font color = \"purple\">Beberapa</font> aturan pembuatan variabel di <b>python</b>:\n",
    "\n",
    "<ol>\n",
    "    <li>Bersifat case sensitif => A != a </li>\n",
    "    <li>Harus diawali dengan huruf atau karakter _(underscore)</li>\n",
    "    <li>Tidak boleh menggunakan spasi</li>\n",
    "    <li>Boleh menggunakan spasi</li>\n",
    "</ol>"
   ]
  },
  {
   "cell_type": "code",
   "execution_count": 46,
   "id": "eb5125b7",
   "metadata": {},
   "outputs": [
    {
     "name": "stdout",
     "output_type": "stream",
     "text": [
      "123\n",
      "100.9\n",
      "2\n",
      "True\n"
     ]
    }
   ],
   "source": [
    "INT = 123\n",
    "FLOAT = 100.9\n",
    "STRING = '2'\n",
    "BOOLEAN = True\n",
    "ALBERT = True\n",
    "print(INT)\n",
    "print(FLOAT)\n",
    "print(STRING)\n",
    "print(BOOLEAN)"
   ]
  },
  {
   "cell_type": "markdown",
   "id": "3f6122f3",
   "metadata": {},
   "source": [
    "Untuk mengetahui tipe data dari sebuah variabel gunakan command <b>type</b>"
   ]
  },
  {
   "cell_type": "code",
   "execution_count": 15,
   "id": "9e9c7dc1",
   "metadata": {},
   "outputs": [
    {
     "name": "stdout",
     "output_type": "stream",
     "text": [
      "<class 'int'>\n",
      "<class 'float'>\n",
      "<class 'str'>\n",
      "<class 'bool'>\n"
     ]
    }
   ],
   "source": [
    "print(type(INT))\n",
    "print(type(FLOAT))\n",
    "print(type(STRING))\n",
    "print(type(BOOLEAN))"
   ]
  },
  {
   "cell_type": "markdown",
   "id": "61ef893d",
   "metadata": {},
   "source": [
    "Pada python terdapat proses <b>CASTING</b> yaitu konversi dari sebuah tipe data ke tipe data yang lain yaitu dengan sintaks <b>tipe_data(nama_variabel)</b>"
   ]
  },
  {
   "cell_type": "code",
   "execution_count": 63,
   "id": "48846109",
   "metadata": {},
   "outputs": [
    {
     "name": "stdout",
     "output_type": "stream",
     "text": [
      "123.0\n",
      "123\n",
      "True\n"
     ]
    }
   ],
   "source": [
    "int_to_float = float(INT)\n",
    "int_to_string = str(INT)\n",
    "int_to_bool = bool(INT)\n",
    "\n",
    "print(int_to_float)\n",
    "print(int_to_string)\n",
    "print(int_to_bool)"
   ]
  },
  {
   "cell_type": "code",
   "execution_count": 26,
   "id": "d5b7473b",
   "metadata": {},
   "outputs": [
    {
     "name": "stdout",
     "output_type": "stream",
     "text": [
      "100\n",
      "100.9\n",
      "True\n"
     ]
    }
   ],
   "source": [
    "float_to_int = int(FLOAT)\n",
    "float_to_string = str(FLOAT)\n",
    "float_to_bool = bool(FLOAT)\n",
    "\n",
    "print(float_to_int)\n",
    "print(float_to_string)\n",
    "print(float_to_bool)"
   ]
  },
  {
   "cell_type": "code",
   "execution_count": 207,
   "id": "0c9cccf9",
   "metadata": {},
   "outputs": [
    {
     "name": "stdout",
     "output_type": "stream",
     "text": [
      "2.0\n",
      "2\n",
      "True\n"
     ]
    }
   ],
   "source": [
    "string_to_float = float(STRING)\n",
    "string_to_int = int(STRING)\n",
    "string_to_bool = bool(STRING)\n",
    "\n",
    "print(string_to_float)\n",
    "print(string_to_int)\n",
    "print(string_to_bool)"
   ]
  },
  {
   "cell_type": "code",
   "execution_count": 218,
   "id": "e867a350",
   "metadata": {},
   "outputs": [
    {
     "name": "stdout",
     "output_type": "stream",
     "text": [
      "Isikan bilangan 1 : 5.5\n",
      "Isikan bilangan 2 : 5.05\n",
      "Hasil penjumlahan : 10.55\n",
      "Hasil pengurangan : 0.4500000000000002\n",
      "Hasil perkalian : 27.775\n",
      "Hasil pembagian : 1.0891089108910892\n"
     ]
    }
   ],
   "source": [
    "bil1 = float(input(\"Isikan bilangan 1 : \"))\n",
    "bil2 = float(input(\"Isikan bilangan 2 : \"))\n",
    "hasil_penjumlahan = bil1+bil2\n",
    "hasil_pengurangan = bil1-bil2\n",
    "hasil_perkalian = bil1*bil2\n",
    "hasil_pembagian = bil1/bil2\n",
    "print(\"Hasil penjumlahan :\", hasil_penjumlahan)\n",
    "print(\"Hasil pengurangan :\", hasil_pengurangan)\n",
    "print(\"Hasil perkalian :\", hasil_perkalian)\n",
    "print(\"Hasil pembagian :\", hasil_pembagian)\n"
   ]
  }
 ],
 "metadata": {
  "kernelspec": {
   "display_name": "Python 3 (ipykernel)",
   "language": "python",
   "name": "python3"
  },
  "language_info": {
   "codemirror_mode": {
    "name": "ipython",
    "version": 3
   },
   "file_extension": ".py",
   "mimetype": "text/x-python",
   "name": "python",
   "nbconvert_exporter": "python",
   "pygments_lexer": "ipython3",
   "version": "3.9.12"
  }
 },
 "nbformat": 4,
 "nbformat_minor": 5
}
